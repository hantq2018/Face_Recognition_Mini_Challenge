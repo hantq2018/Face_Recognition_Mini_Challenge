{
 "cells": [
  {
   "cell_type": "markdown",
   "metadata": {},
   "source": [
    "## CHUYÊN ĐỀ THỊ GIÁC MÁY TÍNH\n",
    "### Giảng viên: PGS.TS. Lê Đình Duy\n",
    "#### Học viên thực hiện: Trần Quang Hân         &emsp;     MSHV: CH1801027\n",
    "<center> <h1>FACE RECOGNITION - MINI CHALLENGE<center>"
   ]
  },
  {
   "cell_type": "markdown",
   "metadata": {},
   "source": [
    "### I - GIỚI THIỆU\n",
    "##### 1. - Bài toán\n",
    "<p>\n",
    " Bài toán nhận diện gương mặt ở lớp học, với mục tiêu xa là ứng dụng vào điểm danh cho lớp học chỉ với ảnh được chụp từ smartphone\n",
    "    \n",
    "-\t\tInput: Ảnh chụp bằng smartphone.\n",
    "\n",
    "-\t\tOutput: Ảnh với bounding box gương mặt và gán label cho gương mặt đó\n",
    "\n",
    "-\t\tDataset: ảnh các gương mặt được cắt ra từ ảnh chụp smartphone, được bổ sung từ nhiều học viên trong lớp. (ví dụ học viên Trần Quang Hân, trong folder DATASET tạo folder HANTQ, bên trong để ảnh khuôn mặt của học viên đấy)\n",
    "\n",
    "\n",
    "-\t\tBài làm thực hiện trên Jupyter NoteBook, python version 3.6. Sử dụng thuật toán K Neighbors Classifier.\n",
    "</p>\n",
    "\n",
    "##### 2. - Mục Lục\n",
    "\n",
    "###### Phần I. Giới thiệu\n",
    "Giới thiệu bài toán và mục lục.\n",
    "\n",
    "###### Phần II. Cài đặt\n",
    "Chi tiết các bước cài đặt bài toán, đánh giá kết quả cho bài làm.\n",
    "\n",
    "###### Phần III. Tài liệu tham khảo\n"
   ]
  },
  {
   "cell_type": "markdown",
   "metadata": {},
   "source": [
    "### II - CÀI ĐẶT"
   ]
  },
  {
   "cell_type": "markdown",
   "metadata": {},
   "source": [
    "#### 1. - Đầu tiên ta khai báo các thư viện cần thiết"
   ]
  },
  {
   "cell_type": "code",
   "execution_count": 2,
   "metadata": {},
   "outputs": [],
   "source": [
    "import face_recognition \n",
    "# thư viện face_recognition cung cấp các lệnh để nhận diện khuôn mặt\n",
    "import math\n",
    "# math là một thư viện toán, ta có thể sử dụng các toán có sẵn như  sqrt(),ceil(),...\n",
    "from sklearn import neighbors\n",
    "# sklearn là một thư viện mã nguồi mở dành cho máy học, chưa hầu hết các thuật toán máy học hiện đại nhất\n",
    "# trong trường hợp này ta sử dụng thuật toán K-nearest neighbors\n",
    "import os\n",
    "# thư viện os cung cấp hàng loạt các hàm dùng cho việc giao tiếp với hệ điều hành\n",
    "import os.path\n",
    "# path thực hiện một số chức năng hữu ích trên tên đường dẫn. Để đọc hoặc ghi tệp, hãy xem open () và để truy cập hệ thống tệp.\n",
    "import pickle\n",
    "# pickle chuyển đổi một đối tượng Python sang dạng binary và ngược lại\n",
    "from PIL import Image, ImageDraw,ImageFont\n",
    "# Thư viện PIL hỗ trợ nhiều định dạng tập tin, và cung cấp khả năng xử lý hình ảnh và đồ hoạ.\n",
    "from face_recognition.face_recognition_cli import image_files_in_folder\n",
    "#hàm con image_files_in_folder trả về path các file trong folder, trong trường hợp này là path của image\n",
    "\n",
    "ALLOWED_EXTENSIONS = {'png', 'jpg', 'jpeg'}\n",
    "# các đuôi ảnh mà ta xử lý trong project này"
   ]
  },
  {
   "cell_type": "markdown",
   "metadata": {},
   "source": [
    "#### 2. - Hàm con huấn luyện KNN (k-nearest neighbors classifier for face recognition)"
   ]
  },
  {
   "cell_type": "code",
   "execution_count": 10,
   "metadata": {},
   "outputs": [],
   "source": [
    "\n",
    "def train(train_dir, model_save_path=None, n_neighbors=None, knn_algo='ball_tree', verbose=False):\n",
    "    \n",
    "    \"\"\"    \n",
    "     (View in source code to see train_dir example tree structure)\n",
    "    \n",
    "    # Cấu trúc lưu trữ folder, file\n",
    "     Structure:\n",
    "        <train_dir>/\n",
    "        ├── <person1>/\n",
    "        │   ├── <somename1>.jpeg\n",
    "        │   ├── <somename2>.jpeg\n",
    "        │   ├── ...\n",
    "        ├── <person2>/\n",
    "        │   ├── <somename1>.jpeg\n",
    "        │   └── <somename2>.jpeg\n",
    "        └── ...\n",
    "    \"\"\"\n",
    "    X = [] # khai X,y để lưu các giá trị trả về tạm thời\n",
    "    y = []\n",
    "\n",
    "    # Vòng qua từng người trong tập huấn luyện\n",
    "    for class_dir in os.listdir(train_dir): #class_dir bây giờ được gán bằng tên folder (tên một người)\n",
    "        #os.listdir để liệt kê các file hay folder có trong train_dir\n",
    "        \n",
    "        if not os.path.isdir(os.path.join(train_dir, class_dir)): #kiểm tra class_dir có phải là 1 folder không\n",
    "            continue # nếu không phải là folder thì next class_dir khác\n",
    "\n",
    "        # Lặp lại qua từng hình ảnh của folder ảnh người hiện tại\n",
    "        for img_path in image_files_in_folder(os.path.join(train_dir, class_dir)):\n",
    "            \n",
    "            image = face_recognition.load_image_file(img_path)#load file ảnh từ img_path gán vào image\n",
    "            face_bounding_boxes = face_recognition.face_locations(image)\n",
    "            #face_locations trả về 1 list các bộ vị trí mặt được tìm thấy theo thứ tự css (trên cùng, bên phải, dưới cùng, bên trái)\n",
    "\n",
    "            if len(face_bounding_boxes) != 1:\n",
    "                # nếu không có người hoặc nhiều hơn 1 người trong ảnh, qua ảnh tiếp theo và\n",
    "                # in ra ảnh nào không phù hợp để loại bỏ.\n",
    "                if verbose:\n",
    "                    print(\"Image {} not suitable for training: {}\".format(img_path, \"Didn't find a face\" if len(face_bounding_boxes) < 1 else \"Found more than one face\"))\n",
    "            else:\n",
    "                # Thêm mã hóa khuôn mặt cho hình ảnh hiện tại vào tập huấn luyện                \n",
    "                X.append(face_recognition.face_encodings(image, known_face_locations=face_bounding_boxes)[0])\n",
    "                # X lưu giá trị image, và location được mã hóa vào\n",
    "                y.append(class_dir) # y lưu tên class(tên người đang xét)\n",
    "\n",
    "    #Xác định có bao nhiêu hàng xóm để dùng tính trọng số trong phân loại KNN    \n",
    "    if n_neighbors is None:\n",
    "        # Nếu n_neighbors là None thì n_neighbors sẽ như công thức bên dưới, len(X) là độ dài của X, round là làm tròn, int lấy giá trị nguyên\n",
    "        n_neighbors = int(round(math.sqrt(len(X))))\n",
    "        if verbose:\n",
    "            print(\"Chose n_neighbors automatically:\", n_neighbors)\n",
    "\n",
    "    # Tạo và huấn luyện phân lớp KNN\n",
    "    knn_clf = neighbors.KNeighborsClassifier(n_neighbors=n_neighbors, algorithm=knn_algo, weights='distance')\n",
    "    knn_clf.fit(X, y)\n",
    "\n",
    "    # Lưu phân lớp KNN được huấn luyện\n",
    "    if model_save_path is not None:\n",
    "        with open(model_save_path, 'wb') as f:\n",
    "            pickle.dump(knn_clf, f)\n",
    "\n",
    "    return knn_clf"
   ]
  },
  {
   "cell_type": "markdown",
   "metadata": {},
   "source": [
    "#### 3. - Hàm dự đoán sử dụng phân lớp KNN được huấn luyện"
   ]
  },
  {
   "cell_type": "code",
   "execution_count": 4,
   "metadata": {},
   "outputs": [],
   "source": [
    "def predict(X_img_path, knn_clf=None, model_path=None, distance_threshold=0.63):\n",
    "    \"\"\"           \n",
    "    Nhận dạng khuôn mặt trong hình ảnh bằng cách sử dụng phân lớp KNN được đào tạo\n",
    "    : param X_img_path: đường dẫn đến hình ảnh được nhận dạng\n",
    "    : param knn_clf: (tùy chọn) một đối tượng phân lớplớp knn. nếu không được chỉ định, model_save_path phải được chỉ định.\n",
    "    : param model_path: (tùy chọn) đường dẫn đến trình phân lớp knn ngâm. nếu không được chỉ định, model_save_path phải là knn_clf.\n",
    "    : param distance_thr Ngưỡng: (tùy chọn) ngưỡng khoảng cách để phân loại khuôn mặt. \n",
    "          nó càng lớn, càng có nhiều cơ hội không phân lớp sai một người chưa biết là một người đã biết.\n",
    "    : return: danh sách tên và vị trí khuôn mặt cho các khuôn mặt được nhận dạng trong hình ảnh: [(tên, hộp giới hạn), ...].\n",
    "        Đối với khuôn mặt của những người không được nhận dạng, tên 'unknown' sẽ được trả lại.\n",
    "    \"\"\"\n",
    "    if not os.path.isfile(X_img_path) or os.path.splitext(X_img_path)[1][1:] not in ALLOWED_EXTENSIONS:\n",
    "        #kiểm tra định dạng file có nằm trong ALLOWED_EXTENSIONS hay không\n",
    "        raise Exception(\"Invalid image path: {}\".format(X_img_path))\n",
    "        \n",
    "\n",
    "    if knn_clf is None and model_path is None:\n",
    "        #kiểm tra knn_clf và model_path có cùng None hay không. Nếu phải thì sẽ thông báo cung cấp.\n",
    "        raise Exception(\"Must supply knn classifier either knn_clf or model_path\")\n",
    "\n",
    "    # Tải mô hình KNN được đào tạo (nếu được truyền vào)\n",
    "    if knn_clf is None:\n",
    "        with open(model_path, 'rb') as f: #mở và đọc file\n",
    "            knn_clf = pickle.load(f)# mã hóa f và gán vào knn_clf\n",
    "\n",
    "    # Tải tập tin hình ảnh và tìm vị trí các khuôn mặt\n",
    "    X_img = face_recognition.load_image_file(X_img_path)\n",
    "    X_face_locations = face_recognition.face_locations(X_img)\n",
    "    \n",
    "    # Nếu không tìm thấy khuôn mặt nào trong ảnh, trả về kết quả rỗng.\n",
    "    if len(X_face_locations) == 0:\n",
    "        return []\n",
    "    \n",
    "    # Tìm mã hóa cho các khuôn mặt trong hình ảnh thử nghiệm\n",
    "    faces_encodings = face_recognition.face_encodings(X_img, known_face_locations=X_face_locations)\n",
    " \n",
    "    # Sử dụng mô hình KNN để tìm kết quả phù hợp nhất cho mặt kiểm tra\n",
    "    closest_distances = knn_clf.kneighbors(faces_encodings, n_neighbors=1)\n",
    "    #List Comprehensions\n",
    "    are_matches = [closest_distances[0][i][0] <= distance_threshold for i in range(len(X_face_locations))]\n",
    "\n",
    "    # Trả về dự đoán các lớp và loại bỏ các phân loại mà không nằm trong ngưỡng. \n",
    "    # Trong trường hợp này ngưỡng khooảng cách là 0.63, nếu nhỏ hơn sẽ được loại bỏ.\n",
    "    return [(pred, loc) if rec else (\"unknown\", loc) for pred, loc, rec in zip(knn_clf.predict(faces_encodings), X_face_locations, are_matches)]"
   ]
  },
  {
   "cell_type": "markdown",
   "metadata": {},
   "source": [
    "#### 4. - Hiển thị các nhãn trên hình ảnh"
   ]
  },
  {
   "cell_type": "code",
   "execution_count": 5,
   "metadata": {},
   "outputs": [],
   "source": [
    "def show_prediction_labels_on_image(img_path, predictions):\n",
    "    \"\"\"    \n",
    "    Hiển thị kết quả nhận dạng khuôn mặt một cách trực quan.\n",
    "     : param img_path: đường dẫn đến hình ảnh được nhận dạng\n",
    "     : param dự đoán: kết quả của chức năng dự đoán\n",
    "     :Return:\n",
    "    \"\"\"\n",
    "    pil_image = Image.open(img_path).convert(\"RGB\")\n",
    "    draw = ImageDraw.Draw(pil_image)\n",
    "\n",
    "    for name, (top, right, bottom, left) in predictions:        \n",
    "        # Vẽ hình chữ nhật quanh khuôn mặt, dùng module Pillow\n",
    "        draw.rectangle(((left, top), (right, bottom)), outline=(0, 0, 255))\n",
    "        \n",
    "        # Dùng phông mặc định bitmap\n",
    "        name = name.encode(\"UTF-8\")\n",
    "                \n",
    "        # Vẽ nhãn với tên bên dưưới khuôn mặt\n",
    "        text_width, text_height = draw.textsize(name)\n",
    "        draw.rectangle(((left, bottom - text_height - 10), (right, bottom)), fill=(0, 0, 255), outline=(0, 0, 255))\n",
    "        draw.text((left + 6, bottom - text_height - 5), name, fill=(255, 255, 255, 255))\n",
    "\n",
    "    # Xóa thư viện draw khỏi bộ nhớ\n",
    "    del draw\n",
    "\n",
    "    # Hiển thị kết quả ảnh\n",
    "    pil_image.show()"
   ]
  },
  {
   "cell_type": "markdown",
   "metadata": {},
   "source": [
    "#### 5. - Sau khi xong các hàm train, predict và show, ta vào hàm main để bắt đầu gọi các hàm đã viết để chạy project."
   ]
  },
  {
   "cell_type": "code",
   "execution_count": 11,
   "metadata": {},
   "outputs": [
    {
     "name": "stdout",
     "output_type": "stream",
     "text": [
      "Training KNN classifier...\n",
      "Training complete!\n",
      "Looking for faces in IMG_5326.jpg\n",
      "- Found THAODNT at (513, 1282)\n",
      "- Found NHANTH at (1356, 1331)\n",
      "- Found HANTQ at (2756, 1390)\n",
      "- Found MINHHA at (3636, 841)\n",
      "- Found VULQ at (2626, 1182)\n",
      "- Found QUANVM at (3056, 924)\n",
      "- Found VULQ at (3209, 868)\n",
      "- Found MINHHA at (3417, 1148)\n",
      "- Found DUYETLV at (2475, 927)\n",
      "Looking for faces in IMG_5327.jpg\n",
      "- Found MINHHA at (2862, 1243)\n",
      "- Found TAIHPT at (765, 1538)\n",
      "- Found VULQ at (163, 1035)\n",
      "- Found VULQ at (772, 942)\n",
      "- Found MINHHA at (1131, 873)\n",
      "- Found DUYNN at (2122, 964)\n",
      "- Found MYNH at (2615, 1336)\n",
      "- Found DUYNN at (1560, 1113)\n",
      "- Found QUANVM at (2103, 1538)\n",
      "- Found MINHHA at (1788, 882)\n",
      "- Found TANTD at (1801, 1099)\n",
      "- Found TRUONGTX at (2088, 1228)\n",
      "- Found MINHHA at (1061, 992)\n",
      "- Found unknown at (3523, 1398)\n",
      "- Found QUANVM at (2373, 1047)\n",
      "- Found MINHHA at (1439, 932)\n",
      "- Found HANTQ at (1250, 1023)\n",
      "- Found QUANVM at (1596, 976)\n",
      "Looking for faces in IMG_5328.jpg\n",
      "- Found MINHHA at (3593, 1953)\n",
      "- Found TRUONGTX at (1632, 1846)\n",
      "- Found DUYNN at (290, 1531)\n",
      "- Found TULG at (999, 1056)\n",
      "- Found VULQ at (1268, 1182)\n",
      "- Found VULQ at (1716, 1035)\n",
      "- Found THAODNT at (2454, 1010)\n",
      "- Found QUANVM at (1852, 1130)\n",
      "- Found TANTD at (1876, 1455)\n",
      "- Found unknown at (2935, 1360)\n",
      "- Found DUYETLV at (1150, 1439)\n",
      "Looking for faces in IMG_5329.jpg\n",
      "- Found MINHHA at (1398, 779)\n",
      "- Found VULQ at (712, 786)\n",
      "- Found TULG at (3607, 735)\n",
      "- Found VULQ at (2094, 1530)\n",
      "- Found VULQ at (2884, 923)\n",
      "- Found QUANVM at (230, 1003)\n",
      "- Found TULG at (2099, 634)\n",
      "Looking for faces in IMG_5330.jpg\n",
      "- Found VULQ at (1578, 762)\n",
      "- Found MINHHA at (2244, 738)\n",
      "- Found QUANVM at (1300, 974)\n",
      "- Found DUYETLV at (111, 944)\n",
      "- Found unknown at (2935, 944)\n",
      "- Found VULQ at (3709, 820)\n",
      "- Found QUANVM at (605, 1735)\n",
      "- Found TULG at (2925, 573)\n",
      "Looking for faces in IMG_5331.jpg\n",
      "- Found TULG at (315, 1307)\n",
      "- Found DUYETLV at (2344, 1360)\n",
      "- Found VUND at (2693, 985)\n",
      "- Found VULQ at (1454, 1668)\n",
      "- Found DUYNN at (1034, 1381)\n",
      "- Found VULQ at (1999, 1207)\n",
      "- Found VULQ at (1274, 1192)\n",
      "Looking for faces in IMG_5332.jpg\n",
      "- Found VULQ at (3379, 1632)\n",
      "- Found VUND at (1852, 985)\n",
      "- Found MINHHA at (1211, 1301)\n",
      "- Found VULQ at (260, 1330)\n",
      "- Found TULG at (2520, 1009)\n"
     ]
    }
   ],
   "source": [
    "if __name__ == \"__main__\":\n",
    "    # Bước 1: Huấn luyện phân lớp KNN và lưu vào trained_knn_model.clf\n",
    "    # Mô hình sau khi huấn luyện và sẽ được lưu, nếu không có thay đổi trong dataset thì ta có thể bỏ qua bước này ở lần sau    \n",
    "    print(\"Training KNN classifier...\")\n",
    "    classifier = train(\"DATASET\", model_save_path=\"trained_knn_model.clf\", n_neighbors=1)\n",
    "    #n_neighbors=1 là xét 1 láng giềng gần nhất.\n",
    "    print(\"Training complete!\")        \n",
    "\n",
    "    # Bước 2: Sử dụng phân lớp đã được huấn luyện để dự đoán các ảnh chưa biết khác.\n",
    "    for image_file in os.listdir(\"test\"):#os.listdir liệt kê các path trong folder test\n",
    "        full_file_path = os.path.join(\"test\", image_file)# nối path folder test với path của image_file, gán cho full_file_path\n",
    "\n",
    "        print(\"Looking for faces in {}\".format(image_file))#in định dạng của ảnh đang xét (image_file)\n",
    "\n",
    "        # Ta dùng mô hình phân lớp đã huấn luyện để dự đoán những người có trong ảnh đang xét        \n",
    "        predictions = predict(full_file_path, model_path=\"trained_knn_model.clf\")\n",
    "\n",
    "        # in kết quả ra Console\n",
    "        for name, (top, right, bottom, left) in predictions:\n",
    "            print(\"- Found {} at ({}, {})\".format(name, left, top))\n",
    "\n",
    "        # Hiển thị kết quả được phủ lên trên ảnh đang xét\n",
    "        show_prediction_labels_on_image(os.path.join(\"test\", image_file), predictions)"
   ]
  },
  {
   "cell_type": "markdown",
   "metadata": {},
   "source": [
    "###### Hình ảnh minh họa\n",
    "<img src=\"result/IMG_5326.jpg\" />"
   ]
  },
  {
   "cell_type": "markdown",
   "metadata": {},
   "source": [
    "#### 6. - Đánh giá kết quả.\n",
    "##### > Thử nghiệm qua 7 tấm ảnh chụp trong buổi học.\n",
    "<p>    \n",
    "        \t- Tỉ lệ tìm được khuôn mặt có trong ảnh là 83.4%.\t\n",
    "</p>\n",
    "<p>        \n",
    "       \t\t- Tỉ lệ nhận dạng chính xác với các khuông mặt nhận dạng được là 49.1%.\n",
    "</p>"
   ]
  },
  {
   "cell_type": "markdown",
   "metadata": {},
   "source": [
    "#### III - TÀI LIỆU THAM KHẢO"
   ]
  },
  {
   "cell_type": "markdown",
   "metadata": {},
   "source": [
    "[1] https://github.com/ageitgey/face_recognition/blob/master/examples/face_recognition_knn.py"
   ]
  },
  {
   "cell_type": "code",
   "execution_count": null,
   "metadata": {},
   "outputs": [],
   "source": []
  }
 ],
 "metadata": {
  "kernelspec": {
   "display_name": "Python 3",
   "language": "python",
   "name": "python3"
  },
  "language_info": {
   "codemirror_mode": {
    "name": "ipython",
    "version": 3
   },
   "file_extension": ".py",
   "mimetype": "text/x-python",
   "name": "python",
   "nbconvert_exporter": "python",
   "pygments_lexer": "ipython3",
   "version": "3.6.8"
  }
 },
 "nbformat": 4,
 "nbformat_minor": 2
}
